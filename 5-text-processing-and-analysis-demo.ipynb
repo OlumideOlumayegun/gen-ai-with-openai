{
 "cells": [
  {
   "cell_type": "markdown",
   "id": "6dc8cbd4",
   "metadata": {},
   "source": [
    "# Text Processing and Analysis Lab"
   ]
  },
  {
   "cell_type": "markdown",
   "id": "3ac72740",
   "metadata": {},
   "source": [
    "### Import modules"
   ]
  },
  {
   "cell_type": "code",
   "execution_count": 1,
   "id": "90406952",
   "metadata": {},
   "outputs": [],
   "source": [
    "import os\n",
    "import openai"
   ]
  },
  {
   "cell_type": "markdown",
   "id": "b15c69ef",
   "metadata": {},
   "source": [
    "### Set the OpenAI API Key"
   ]
  },
  {
   "cell_type": "code",
   "execution_count": null,
   "id": "3a483503",
   "metadata": {},
   "outputs": [],
   "source": [
    "#openai.api_key = os.getenv(\"OPENAI_API_KEY\")\n",
    "client = openai.OpenAI(api_key = 'YOUR_OPENAI_API_KEY')"
   ]
  },
  {
   "cell_type": "markdown",
   "id": "b5b046e5",
   "metadata": {},
   "source": [
    "### Define function for word completion"
   ]
  },
  {
   "cell_type": "code",
   "execution_count": 7,
   "id": "5c4fcbc2",
   "metadata": {},
   "outputs": [],
   "source": [
    "def get_word_completion(prompt):\n",
    "    messages= [\n",
    "        {'role':'system', 'content':'You are a helpful assistant.'},\n",
    "        {'role':'user', 'content':prompt}\n",
    "    ]    \n",
    "    response = client.chat.completions.create(\n",
    "        model='gpt-3.5-turbo',\n",
    "        messages=messages\n",
    "    )\n",
    "    return response.choices[0].message.content"
   ]
  },
  {
   "cell_type": "markdown",
   "id": "c9460ce3",
   "metadata": {},
   "source": [
    "### Text summarization"
   ]
  },
  {
   "cell_type": "code",
   "execution_count": 8,
   "id": "4f4e420d",
   "metadata": {},
   "outputs": [],
   "source": [
    "context='''\n",
    "Steve Jobs’ 2005 Stanford Commencement Address\n",
    "I am honored to be with you today at your commencement from one of the finest universities in the world. I never graduated from college. Truth be told, this is the closest I’ve ever gotten to a college graduation. Today I want to tell you three stories from my life. That’s it. No big deal. Just three stories.\n",
    "\n",
    "The first story is about connecting the dots.\n",
    "\n",
    "I dropped out of Reed College after the first 6 months, but then stayed around as a drop-in for another 18 months or so before I really quit. So why did I drop out?\n",
    "\n",
    "It started before I was born. My biological mother was a young, unwed college graduate student, and she decided to put me up for adoption. She felt very strongly that I should be adopted by college graduates, so everything was all set for me to be adopted at birth by a lawyer and his wife. Except that when I popped out they decided at the last minute that they really wanted a girl. So my parents, who were on a waiting list, got a call in the middle of the night asking: “We have an unexpected baby boy; do you want him?” They said: “Of course.” My biological mother later found out that my mother had never graduated from college and that my father had never graduated from high school. She refused to sign the final adoption papers. She only relented a few months later when my parents promised that I would someday go to college.\n",
    "\n",
    "And 17 years later I did go to college. But I naively chose a college that was almost as expensive as Stanford, and all of my working-class parents’ savings were being spent on my college tuition. After six months, I couldn’t see the value in it. I had no idea what I wanted to do with my life and no idea how college was going to help me figure it out. And here I was spending all of the money my parents had saved their entire life. So I decided to drop out and trust that it would all work out OK. It was pretty scary at the time, but looking back it was one of the best decisions I ever made. The minute I dropped out I could stop taking the required classes that didn’t interest me, and begin dropping in on the ones that looked interesting.\n",
    "\n",
    "It wasn’t all romantic. I didn’t have a dorm room, so I slept on the floor in friends’ rooms, I returned Coke bottles for the 5¢ deposits to buy food with, and I would walk the 7 miles across town every Sunday night to get one good meal a week at the Hare Krishna temple. I loved it. And much of what I stumbled into by following my curiosity and intuition turned out to be priceless later on. Let me give you one example:\n",
    "\n",
    "Reed College at that time offered perhaps the best calligraphy instruction in the country. Throughout the campus every poster, every label on every drawer, was beautifully hand calligraphed. Because I had dropped out and didn’t have to take the normal classes, I decided to take a calligraphy class to learn how to do this. I learned about serif and sans serif typefaces, about varying the amount of space between different letter combinations, about what makes great typography great. It was beautiful, historical, artistically subtle in a way that science can’t capture, and I found it fascinating.\n",
    "\n",
    "None of this had even a hope of any practical application in my life. But 10 years later, when we were designing the first Macintosh computer, it all came back to me. And we designed it all into the Mac. It was the first computer with beautiful typography. If I had never dropped in on that single course in college, the Mac would have never had multiple typefaces or proportionally spaced fonts. And since Windows just copied the Mac, it’s likely that no personal computer would have them. If I had never dropped out, I would have never dropped in on this calligraphy class, and personal computers might not have the wonderful typography that they do. Of course it was impossible to connect the dots looking forward when I was in college. But it was very, very clear looking backward 10 years later.\n",
    "\n",
    "Again, you can’t connect the dots looking forward; you can only connect them looking backward. So you have to trust that the dots will somehow connect in your future. You have to trust in something — your gut, destiny, life, karma, whatever. This approach has never let me down, and it has made all the difference in my life.\n",
    "\n",
    "My second story is about love and loss.\n",
    "\n",
    "I was lucky — I found what I loved to do early in life. Woz and I started Apple in my parents’ garage when I was 20. We worked hard, and in 10 years Apple had grown from just the two of us in a garage into a $2 billion company with over 4,000 employees. We had just released our finest creation — the Macintosh — a year earlier, and I had just turned 30. And then I got fired. How can you get fired from a company you started? Well, as Apple grew we hired someone who I thought was very talented to run the company with me, and for the first year or so things went well. But then our visions of the future began to diverge and eventually we had a falling out. When we did, our Board of Directors sided with him. So at 30 I was out. And very publicly out. What had been the focus of my entire adult life was gone, and it was devastating.\n",
    "\n",
    "I really didn’t know what to do for a few months. I felt that I had let the previous generation of entrepreneurs down — that I had dropped the baton as it was being passed to me. I met with David Packard and Bob Noyce and tried to apologize for screwing up so badly. I was a very public failure, and I even thought about running away from the valley. But something slowly began to dawn on me — I still loved what I did. The turn of events at Apple had not changed that one bit. I had been rejected, but I was still in love. And so I decided to start over.\n",
    "\n",
    "I didn’t see it then, but it turned out that getting fired from Apple was the best thing that could have ever happened to me. The heaviness of being successful was replaced by the lightness of being a beginner again, less sure about everything. It freed me to enter one of the most creative periods of my life.\n",
    "\n",
    "During the next five years, I started a company named NeXT, another company named Pixar, and fell in love with an amazing woman who would become my wife. Pixar went on to create the world’s first computer animated feature film, Toy Story, and is now the most successful animation studio in the world. In a remarkable turn of events, Apple bought NeXT, I returned to Apple, and the technology we developed at NeXT is at the heart of Apple’s current renaissance. And Laurene and I have a wonderful family together.\n",
    "\n",
    "I’m pretty sure none of this would have happened if I hadn’t been fired from Apple. It was awful tasting medicine, but I guess the patient needed it. Sometimes life hits you in the head with a brick. Don’t lose faith. I’m convinced that the only thing that kept me going was that I loved what I did. You’ve got to find what you love. And that is as true for your work as it is for your lovers. Your work is going to fill a large part of your life, and the only way to be truly satisfied is to do what you believe is great work. And the only way to do great work is to love what you do. If you haven’t found it yet, keep looking. Don’t settle. As with all matters of the heart, you’ll know when you find it. And, like any great relationship, it just gets better and better as the years roll on. So keep looking until you find it. Don’t settle.\n",
    "\n",
    "My third story is about death.\n",
    "\n",
    "When I was 17, I read a quote that went something like: “If you live each day as if it was your last, someday you’ll most certainly be right.” It made an impression on me, and since then, for the past 33 years, I have looked in the mirror every morning and asked myself: “If today were the last day of my life, would I want to do what I am about to do today?” And whenever the answer has been “No” for too many days in a row, I know I need to change something.\n",
    "\n",
    "Remembering that I’ll be dead soon is the most important tool I’ve ever encountered to help me make the big choices in life. Because almost everything — all external expectations, all pride, all fear of embarrassment or failure — these things just fall away in the face of death, leaving only what is truly important. Remembering that you are going to die is the best way I know to avoid the trap of thinking you have something to lose. You are already naked. There is no reason not to follow your heart.\n",
    "\n",
    "About a year ago I was diagnosed with cancer. I had a scan at 7:30 in the morning, and it clearly showed a tumor on my pancreas. I didn’t even know what a pancreas was. The doctors told me this was almost certainly a type of cancer that is incurable, and that I should expect to live no longer than three to six months. My doctor advised me to go home and get my affairs in order, which is doctor’s code for prepare to die. It means to try to tell your kids everything you thought you’d have the next 10 years to tell them in just a few months. It means to make sure everything is buttoned up so that it will be as easy as possible for your family. It means to say your goodbyes.\n",
    "\n",
    "I lived with that diagnosis all day. Later that evening I had a biopsy, where they stuck an endoscope down my throat, through my stomach and into my intestines, put a needle into my pancreas and got a few cells from the tumor. I was sedated, but my wife, who was there, told me that when they viewed the cells under a microscope the doctors started crying because it turned out to be a very rare form of pancreatic cancer that is curable with surgery. I had the surgery and I’m fine now.\n",
    "\n",
    "This was the closest I’ve been to facing death, and I hope it’s the closest I get for a few more decades. Having lived through it, I can now say this to you with a bit more certainty than when death was a useful but purely intellectual concept:\n",
    "\n",
    "No one wants to die. Even people who want to go to heaven don’t want to die to get there. And yet death is the destination we all share. No one has ever escaped it. And that is as it should be, because Death is very likely the single best invention of Life. It is Life’s change agent. It clears out the old to make way for the new. Right now the new is you, but someday not too long from now, you will gradually become the old and be cleared away. Sorry to be so dramatic, but it is quite true.\n",
    "\n",
    "Your time is limited, so don’t waste it living someone else’s life. Don’t be trapped by dogma — which is living with the results of other people’s thinking. Don’t let the noise of others’ opinions drown out your own inner voice. And most important, have the courage to follow your heart and intuition. They somehow already know what you truly want to become. Everything else is secondary.\n",
    "\n",
    "When I was young, there was an amazing publication called The Whole Earth Catalog, which was one of the bibles of my generation. It was created by a fellow named Stewart Brand not far from here in Menlo Park, and he brought it to life with his poetic touch. This was in the late 1960s, before personal computers and desktop publishing, so it was all made with typewriters, scissors and Polaroid cameras. It was sort of like Google in paperback form, 35 years before Google came along: It was idealistic, and overflowing with neat tools and great notions.\n",
    "\n",
    "Stewart and his team put out several issues of The Whole Earth Catalog, and then when it had run its course, they put out a final issue. It was the mid-1970s, and I was your age. On the back cover of their final issue was a photograph of an early morning country road, the kind you might find yourself hitchhiking on if you were so adventurous. Beneath it were the words: “Stay Hungry. Stay Foolish.” It was their farewell message as they signed off. Stay Hungry. Stay Foolish. And I have always wished that for myself. And now, as you graduate to begin anew, I wish that for you.\n",
    "\n",
    "Stay Hungry. Stay Foolish.\n",
    "\n",
    "Thank you all very much.\n",
    "\n",
    "'''"
   ]
  },
  {
   "cell_type": "code",
   "execution_count": 9,
   "id": "c75eeeb1",
   "metadata": {},
   "outputs": [],
   "source": [
    "prompt = f\"\"\"\n",
    "Create a summary capturing the main points and key details as bullets based on the content delimited by \n",
    "triple backticks.\n",
    "\n",
    "```{context}```\n",
    "\"\"\""
   ]
  },
  {
   "cell_type": "code",
   "execution_count": 10,
   "id": "42a0b7ba",
   "metadata": {},
   "outputs": [
    {
     "name": "stdout",
     "output_type": "stream",
     "text": [
      "- Steve Jobs gave a commencement address at Stanford University in 2005\n",
      "- He shared three stories from his life during the address\n",
      "- Story 1: Connecting the dots, highlighted the importance of following intuition and curiosity\n",
      "- Story 2: Love and loss, emphasized finding passion in work and not settling for less\n",
      "- Story 3: Death, discussed the impact of facing mortality and the importance of following one's heart and intuition\n",
      "- Jobs shared personal experiences including dropping out of college, getting fired from Apple, and facing a cancer diagnosis\n",
      "- Encouraged the audience to embrace challenges, stay curious, and remain hungry and foolish in pursuing their dreams\n"
     ]
    }
   ],
   "source": [
    "response=get_word_completion(prompt)\n",
    "print(response)"
   ]
  },
  {
   "cell_type": "markdown",
   "id": "cb017692",
   "metadata": {},
   "source": [
    "### Sentiment Analysis"
   ]
  },
  {
   "cell_type": "code",
   "execution_count": 11,
   "id": "9cf73284",
   "metadata": {},
   "outputs": [],
   "source": [
    "context='''\n",
    "1. If you sometimes like to go to the movies to have fun , Wasabi is a good place to start .\n",
    "2. An idealistic love story that brings out the latent 15-year-old romantic in everyone .\n",
    "3. The story loses its bite in a last-minute happy ending that's even less plausible than the rest of the picture .\n",
    "'''"
   ]
  },
  {
   "cell_type": "code",
   "execution_count": 12,
   "id": "a9f8334d",
   "metadata": {},
   "outputs": [],
   "source": [
    "prompt=f\"\"\"\n",
    "Analyze the sentiment of the reviews delimited in triple backticks. \n",
    "\n",
    "First show the actual review and then add the sentiment - positive, negative, or neutral.\n",
    "\n",
    "```{context}```\n",
    "\"\"\""
   ]
  },
  {
   "cell_type": "code",
   "execution_count": 13,
   "id": "30392ce9",
   "metadata": {},
   "outputs": [
    {
     "name": "stdout",
     "output_type": "stream",
     "text": [
      "1. If you sometimes like to go to the movies to have fun, Wasabi is a good place to start.\n",
      "Sentiment: Positive\n",
      "\n",
      "2. An idealistic love story that brings out the latent 15-year-old romantic in everyone.\n",
      "Sentiment: Positive\n",
      "\n",
      "3. The story loses its bite in a last-minute happy ending that's even less plausible than the rest of the picture.\n",
      "Sentiment: Negative\n"
     ]
    }
   ],
   "source": [
    "response=get_word_completion(prompt)\n",
    "print(response)"
   ]
  },
  {
   "cell_type": "markdown",
   "id": "1c627b30",
   "metadata": {},
   "source": [
    "### Translation"
   ]
  },
  {
   "cell_type": "code",
   "execution_count": 14,
   "id": "72310ab4",
   "metadata": {},
   "outputs": [],
   "source": [
    "context=\"\"\"\n",
    "Demain, dès l’aube, à l’heure où blanchit la campagne,\n",
    "Je partirai. Vois-tu, je sais que tu m’attends.\n",
    "J’irai par la forêt, j’irai par la montagne.\n",
    "Je ne puis demeurer loin de toi plus longtemps.\n",
    "Je marcherai les yeux fixés sur mes pensées,\n",
    "Sans rien voir au dehors, sans entendre aucun bruit,\n",
    "Seul, inconnu, le dos courbé, les mains croisées,\n",
    "Triste, et le jour pour moi sera comme la nuit.\n",
    "Je ne regarderai ni l’or du soir qui tombe,\n",
    "Ni les voiles au loin descendant vers Harfleur,\n",
    "Et quand j’arriverai, je mettrai sur ta tombe\n",
    "Un bouquet de houx vert et de bruyère en fleur.\n",
    "\"\"\""
   ]
  },
  {
   "cell_type": "code",
   "execution_count": 15,
   "id": "ab54b7ae",
   "metadata": {},
   "outputs": [],
   "source": [
    "prompt=f\"\"\"\n",
    "Write an English poem based on the french poem delimited in triple backticks.\n",
    "\n",
    "```{context}```\n",
    "\"\"\""
   ]
  },
  {
   "cell_type": "code",
   "execution_count": 16,
   "id": "204b6e2f",
   "metadata": {},
   "outputs": [
    {
     "name": "stdout",
     "output_type": "stream",
     "text": [
      "Tomorrow, at dawn, when the countryside is whitening,\n",
      "I'll depart. You see, I know you wait for me.\n",
      "Through the forest, across mountains ascending,\n",
      "Far from you, I cannot bear to be.\n",
      "\n",
      "I'll walk with my thoughts fixed, eyes staring ahead,\n",
      "Seeing nothing outside, hearing no sound,\n",
      "Alone, unknown, bent over, hands clasped, feeling dread,\n",
      "Sorrowful, where day for me is night profound.\n",
      "\n",
      "I won't admire the evening's golden hue,\n",
      "Nor the distant sails descending to Harfleur's shore,\n",
      "And when I reach you, I'll lay on your resting place anew,\n",
      "A bouquet of green holly and heather blossoms evermore.\n"
     ]
    }
   ],
   "source": [
    "response=get_word_completion(prompt)\n",
    "print(response)"
   ]
  },
  {
   "cell_type": "markdown",
   "id": "e162ac34",
   "metadata": {},
   "source": [
    "### Formatting and conversion"
   ]
  },
  {
   "cell_type": "code",
   "execution_count": 17,
   "id": "3470d12a",
   "metadata": {},
   "outputs": [],
   "source": [
    "context=\"\"\"\n",
    "1. Alabama - Montgomery\n",
    "2. California - Sacramento\n",
    "3. Florida - Tallahassee\n",
    "4. Georgia - Atlanta\n",
    "5. Illinois - Springfield\n",
    "6. Massachusetts - Boston\n",
    "7. New York - Albany\n",
    "8. Texas - Austin\n",
    "9. Pennsylvania - Harrisburg\n",
    "10. Washington - Olympia\n",
    "\"\"\""
   ]
  },
  {
   "cell_type": "code",
   "execution_count": 18,
   "id": "debe0ecf",
   "metadata": {},
   "outputs": [],
   "source": [
    "prompt=f\"\"\"\n",
    "From the content delimited in three backticks, format it in JSON, XML, and JSONL.\n",
    "```{context}```\n",
    "\"\"\""
   ]
  },
  {
   "cell_type": "code",
   "execution_count": 19,
   "id": "3d812ac7",
   "metadata": {},
   "outputs": [
    {
     "name": "stdout",
     "output_type": "stream",
     "text": [
      "Here is the content formatted into JSON, XML, and JSONL:\n",
      "\n",
      "JSON:\n",
      "```json\n",
      "{\n",
      "  \"states\": [\n",
      "    {\"name\": \"Alabama\", \"capital\": \"Montgomery\"},\n",
      "    {\"name\": \"California\", \"capital\": \"Sacramento\"},\n",
      "    {\"name\": \"Florida\", \"capital\": \"Tallahassee\"},\n",
      "    {\"name\": \"Georgia\", \"capital\": \"Atlanta\"},\n",
      "    {\"name\": \"Illinois\", \"capital\": \"Springfield\"},\n",
      "    {\"name\": \"Massachusetts\", \"capital\": \"Boston\"},\n",
      "    {\"name\": \"New York\", \"capital\": \"Albany\"},\n",
      "    {\"name\": \"Texas\", \"capital\": \"Austin\"},\n",
      "    {\"name\": \"Pennsylvania\", \"capital\": \"Harrisburg\"},\n",
      "    {\"name\": \"Washington\", \"capital\": \"Olympia\"}\n",
      "  ]\n",
      "}\n",
      "```\n",
      "\n",
      "XML:\n",
      "```xml\n",
      "<states>\n",
      "  <state>\n",
      "    <name>Alabama</name>\n",
      "    <capital>Montgomery</capital>\n",
      "  </state>\n",
      "  <state>\n",
      "    <name>California</name>\n",
      "    <capital>Sacramento</capital>\n",
      "  </state>\n",
      "  <state>\n",
      "    <name>Florida</name>\n",
      "    <capital>Tallahassee</capital>\n",
      "  </state>\n",
      "  <state>\n",
      "    <name>Georgia</name>\n",
      "    <capital>Atlanta</capital>\n",
      "  </state>\n",
      "  <state>\n",
      "    <name>Illinois</name>\n",
      "    <capital>Springfield</capital>\n",
      "  </state>\n",
      "  <state>\n",
      "    <name>Massachusetts</name>\n",
      "    <capital>Boston</capital>\n",
      "  </state>\n",
      "  <state>\n",
      "    <name>New York</name>\n",
      "    <capital>Albany</capital>\n",
      "  </state>\n",
      "  <state>\n",
      "    <name>Texas</name>\n",
      "    <capital>Austin</capital>\n",
      "  </state>\n",
      "  <state>\n",
      "    <name>Pennsylvania</name>\n",
      "    <capital>Harrisburg</capital>\n",
      "  </state>\n",
      "  <state>\n",
      "    <name>Washington</name>\n",
      "    <capital>Olympia</capital>\n",
      "  </state>\n",
      "</states>\n",
      "```\n",
      "\n",
      "JSONL (JSON Lines):\n",
      "```\n",
      "{\"name\": \"Alabama\", \"capital\": \"Montgomery\"}\n",
      "{\"name\": \"California\", \"capital\": \"Sacramento\"}\n",
      "{\"name\": \"Florida\", \"capital\": \"Tallahassee\"}\n",
      "{\"name\": \"Georgia\", \"capital\": \"Atlanta\"}\n",
      "{\"name\": \"Illinois\", \"capital\": \"Springfield\"}\n",
      "{\"name\": \"Massachusetts\", \"capital\": \"Boston\"}\n",
      "{\"name\": \"New York\", \"capital\": \"Albany\"}\n",
      "{\"name\": \"Texas\", \"capital\": \"Austin\"}\n",
      "{\"name\": \"Pennsylvania\", \"capital\": \"Harrisburg\"}\n",
      "{\"name\": \"Washington\", \"capital\": \"Olympia\"}\n",
      "```\n"
     ]
    }
   ],
   "source": [
    "response=get_word_completion(prompt)\n",
    "print(response)"
   ]
  },
  {
   "cell_type": "code",
   "execution_count": null,
   "id": "31f39be6-0145-42d4-afb1-0ab9755d06ba",
   "metadata": {},
   "outputs": [],
   "source": []
  }
 ],
 "metadata": {
  "kernelspec": {
   "display_name": "Python 3 (ipykernel)",
   "language": "python",
   "name": "python3"
  },
  "language_info": {
   "codemirror_mode": {
    "name": "ipython",
    "version": 3
   },
   "file_extension": ".py",
   "mimetype": "text/x-python",
   "name": "python",
   "nbconvert_exporter": "python",
   "pygments_lexer": "ipython3",
   "version": "3.12.3"
  }
 },
 "nbformat": 4,
 "nbformat_minor": 5
}
