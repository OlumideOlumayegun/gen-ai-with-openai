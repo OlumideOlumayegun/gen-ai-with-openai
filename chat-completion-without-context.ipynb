{
 "cells": [
  {
   "cell_type": "markdown",
   "id": "4c93249c",
   "metadata": {},
   "source": [
    "### Invoke Chat Completion without context"
   ]
  },
  {
   "cell_type": "code",
   "execution_count": null,
   "id": "13b36546",
   "metadata": {},
   "outputs": [
    {
     "name": "stdout",
     "output_type": "stream",
     "text": [
      "The movie that won the best picture award at the 95th Oscar awards was \"CODA.\"\n"
     ]
    }
   ],
   "source": [
    "import os\n",
    "import openai\n",
    "\n",
    "#openai.api_key = os.getenv(\"OPENAI_API_KEY\")\n",
    "#openai.api_key = \"\"\n",
    "client = openai.OpenAI(api_key=\"YOUR_OPENAI_API_KEY\")\n",
    "\n",
    "response = client.chat.completions.create(\n",
    "  model='gpt-3.5-turbo',\n",
    "  messages=[\n",
    "    {\n",
    "      'role': 'system',\n",
    "      'content': 'You answer questions about 95th Oscar awards held in March 2023. \\\n",
    "                  Answer only if you are sure.'\n",
    "    },\n",
    "    {\n",
    "      'role': 'user',\n",
    "      'content': 'Which movie won the best picture award? Answer only if you are sure'\n",
    "    }\n",
    "  ]\n",
    ")\n",
    "print(response.choices[0].message.content)"
   ]
  },
  {
   "cell_type": "code",
   "execution_count": null,
   "id": "ed20d36e-02a8-4871-bb55-f3b650ff56d8",
   "metadata": {},
   "outputs": [],
   "source": [
    "# Model is hallucinating, giving different answer at every run"
   ]
  }
 ],
 "metadata": {
  "kernelspec": {
   "display_name": "Python 3 (ipykernel)",
   "language": "python",
   "name": "python3"
  },
  "language_info": {
   "codemirror_mode": {
    "name": "ipython",
    "version": 3
   },
   "file_extension": ".py",
   "mimetype": "text/x-python",
   "name": "python",
   "nbconvert_exporter": "python",
   "pygments_lexer": "ipython3",
   "version": "3.12.3"
  }
 },
 "nbformat": 4,
 "nbformat_minor": 5
}
