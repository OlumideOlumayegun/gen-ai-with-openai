{
 "cells": [
  {
   "cell_type": "markdown",
   "id": "4b20e8e1",
   "metadata": {},
   "source": [
    "# Word Completion Lab"
   ]
  },
  {
   "cell_type": "markdown",
   "id": "3a5ffc31",
   "metadata": {},
   "source": [
    "### Import modules"
   ]
  },
  {
   "cell_type": "code",
   "execution_count": 1,
   "id": "47335350",
   "metadata": {},
   "outputs": [],
   "source": [
    "import os\n",
    "import openai"
   ]
  },
  {
   "cell_type": "markdown",
   "id": "085f1765",
   "metadata": {},
   "source": [
    "### Set the OpenAI API Key"
   ]
  },
  {
   "cell_type": "code",
   "execution_count": null,
   "id": "929e070d",
   "metadata": {},
   "outputs": [],
   "source": [
    "#openai.api_key = os.getenv(\"OPENAI_API_KEY\")\n",
    "\n",
    "client = openai.OpenAI(api_key = 'YOUR_OPENAI_API_KEY')"
   ]
  },
  {
   "cell_type": "markdown",
   "id": "496c6de9",
   "metadata": {},
   "source": [
    "### Define function for word completion"
   ]
  },
  {
   "cell_type": "code",
   "execution_count": 3,
   "id": "255f05f5",
   "metadata": {},
   "outputs": [],
   "source": [
    "def get_word_completion(prompt):\n",
    "    messages= [\n",
    "        {'role':'system', 'content':'You are a helpful assistant.'},\n",
    "        {'role':'user', 'content':prompt}\n",
    "    ]    \n",
    "    response = client.chat.completions.create(\n",
    "        model='gpt-3.5-turbo',\n",
    "        messages=messages,\n",
    "        max_tokens=3000,\n",
    "        temperature=1.2,\n",
    "        n=1\n",
    "    )\n",
    "    return response.choices[0].message.content"
   ]
  },
  {
   "cell_type": "markdown",
   "id": "36e16bab",
   "metadata": {},
   "source": [
    "### Define the context for the prompt"
   ]
  },
  {
   "cell_type": "code",
   "execution_count": 4,
   "id": "fe5162db",
   "metadata": {},
   "outputs": [],
   "source": [
    "product_spec = \"\"\"\n",
    "Product Name:  TerrainMaster Pro 2023 Mountain Bike \n",
    "\n",
    "Product Description:  The TerrainMaster Pro 2023 is an advanced mountain bike designed for the most demanding off-road conditions. Built for rugged terrains and challenging trails, it combines cutting-edge technology with high-quality materials to deliver top-notch performance and durability.\n",
    "\n",
    "Key Features: \n",
    "\n",
    "- Frame:  Ultra-lightweight, aerospace-grade aluminum frame that ensures maximum strength and minimal weight, promoting easier handling and maneuverability.\n",
    "- Suspension:  Advanced dual-suspension system with 180mm travel, featuring a hydraulic lockout function to adapt to different terrain conditions.\n",
    "- Gears:  Shimano 24-speed drivetrain for a wide range of gears to tackle steep climbs and fast descents.\n",
    "- Brakes:  Hydraulic disc brakes for superior stopping power in all weather conditions.\n",
    "- Tires:  29-inch, wide-profile, puncture-resistant tires, offering excellent traction on various surfaces and conditions.\n",
    "- Seat:  Adjustable, ergonomic saddle with gel padding for maximum comfort during long rides.\n",
    "\n",
    "Additional Features: \n",
    "\n",
    "- Handlebars:  Wide, flat handlebars for improved control and stability.\n",
    "- Pedals:  Premium alloy platform pedals with sealed bearings for durability and smooth pedaling.\n",
    "- Water Bottle Holder:  Comes with a built-in water bottle holder for convenient hydration.\n",
    "- Mudguards:  Optional detachable mudguards to protect the rider from splashes and debris.\n",
    "\n",
    "Specifications: \n",
    "\n",
    "- Frame Size Options: Small (15\"), Medium (17\"), Large (19\"), X-Large (21\")\n",
    "- Wheel Size: 29 inches\n",
    "- Number of Gears: 24\n",
    "- Suspension: Full (Front and Rear)\n",
    "- Brake Type: Hydraulic Disc Brakes\n",
    "- Frame Material: Aerospace-grade Aluminum\n",
    "- Weight: 13.5 kg (varies slightly with frame size)\n",
    "\n",
    "Usage Recommendations: The TerrainMaster Pro 2023 is perfect for advanced riders looking to push their limits on challenging off-road terrains. It is suitable for mountain biking, trail riding, enduro, and downhill biking.\n",
    "\n",
    "Safety Precautions: Always wear a helmet and other protective gear while riding. Check the bike's components before every ride, especially the brakes and tires, for optimal safety.\n",
    "\n",
    "Warranty: The TerrainMaster Pro 2023 comes with a limited lifetime warranty on the frame and a 2-year warranty on the mechanical components.\n",
    "\n",
    "Price:  $900\n",
    "\"\"\"    "
   ]
  },
  {
   "cell_type": "markdown",
   "id": "80a62eb2",
   "metadata": {},
   "source": [
    "### Construct the basic prompt"
   ]
  },
  {
   "cell_type": "code",
   "execution_count": 5,
   "id": "4509beea",
   "metadata": {},
   "outputs": [],
   "source": [
    "prompt = f\"\"\"\n",
    "Your task is to help the marketing team create a \n",
    "description for website of a product based \n",
    "on the product spec.\n",
    "\n",
    "Write a description based on the information \n",
    "provided in the specifications delimited by \n",
    "triple backticks.\n",
    "\n",
    "Technical specifications: ```{product_spec}```\n",
    "\"\"\""
   ]
  },
  {
   "cell_type": "code",
   "execution_count": 6,
   "id": "fb9b9699",
   "metadata": {},
   "outputs": [
    {
     "name": "stdout",
     "output_type": "stream",
     "text": [
      "Introducing the TerrainMaster Pro 2023 Mountain Bike - your ultimate companion for conquering the toughest off-road trails and terrains. \n",
      "\n",
      "The TerrainMaster Pro 2023 is meticulously engineered with cutting-edge technology and premium materials to withstand the most challenging conditions with ease. Its ultra-lightweight aerospace-grade aluminum frame strikes a perfect balance between strength and agility, making handling a breeze. \n",
      "\n",
      "Get ready to tackle any terrain with confidence, thanks to the advanced dual-suspension system with 180mm travel and hydraulic lockout function. Shift smoothly through 24 gears with the Shimano drivetrain, while the hydraulic disc brakes provide unparalleled stopping power regardless of weather conditions. \n",
      "\n",
      "Equipped with 29-inch puncture-resistant tires for superior traction and an adjustable ergonomic saddle for ultimate comfort, every ride is a thrilling adventure. Additional features like wide handlebars, premium pedals, and a built-in water bottle holder enhance the overall riding experience. \n",
      "\n",
      "Choose from a range of frame sizes to suit your preference and hit the trails with the assurance of a limited lifetime warranty on the frame and a 2-year warranty on mechanical components. Ideal for advanced riders seeking excitement in mountain biking, trail riding, enduro, and downhill biking. \n",
      "\n",
      "For only $900, elevate your off-road experience with the TerrainMaster Pro 2023 Mountain Bike. Push your limits, embrace the challenges, and ride in style with confidence. Unlock your full riding potential today.  \n",
      "\n",
      "Remember to prioritize safety by wearing protective gear and ensuring your bike is in top condition before each ride. Choose TerrainMaster Pro 2023 and conquer the trails like never before.\n"
     ]
    }
   ],
   "source": [
    "response=get_word_completion(prompt)\n",
    "print(response)"
   ]
  },
  {
   "cell_type": "markdown",
   "id": "42a9faec",
   "metadata": {},
   "source": [
    "### Tweak the prompt"
   ]
  },
  {
   "cell_type": "code",
   "execution_count": 7,
   "id": "e037f8b6",
   "metadata": {},
   "outputs": [],
   "source": [
    "prompt = f\"\"\"\n",
    "Your task is to help the marketing team create a \n",
    "description for website of a product based \n",
    "on the product spec.\n",
    "\n",
    "Write a description based on the information \n",
    "provided in the specifications delimited by \n",
    "triple backticks.\n",
    "\n",
    "Please be concise.\n",
    "\n",
    "Product specifications: ```{product_spec}```\n",
    "\"\"\""
   ]
  },
  {
   "cell_type": "code",
   "execution_count": 8,
   "id": "c3be87d4",
   "metadata": {},
   "outputs": [
    {
     "name": "stdout",
     "output_type": "stream",
     "text": [
      "Introducing the TerrainMaster Pro 2023 Mountain Bike - your ultimate companion for conquering rugged terrains and challenging trails. With an ultra-lightweight aerospace-grade aluminum frame, advanced 180mm dual-suspension system, and Shimano 24-speed drivetrain, this bike offers top-notch performance and durability. Enjoy superior stopping power with hydraulic disc brakes, excellent traction with wide-profile tires, and maximum comfort with an adjustable ergonomic saddle. Perfect for advanced riders seeking adventure in mountain biking, trail riding, enduro, and downhill biking. Stay hydrated with the built-in water bottle holder and ride worry-free with the limited lifetime warranty on the frame and a 2-year warranty on mechanical components. Unleash your potential with the TerrainMaster Pro 2023 for just $900. Gear up, ride safe, and let the adventure begin.\n"
     ]
    }
   ],
   "source": [
    "response=get_word_completion(prompt)\n",
    "print(response)"
   ]
  },
  {
   "cell_type": "markdown",
   "id": "657f31aa",
   "metadata": {},
   "source": [
    "### Tweak the prompt further"
   ]
  },
  {
   "cell_type": "code",
   "execution_count": 9,
   "id": "63366318",
   "metadata": {},
   "outputs": [],
   "source": [
    "prompt = f\"\"\"\n",
    "Your task is to help the marketing team create a \n",
    "description for website of a product based \n",
    "on the product spec.\n",
    "\n",
    "Write a description based on the information \n",
    "provided in the specifications delimited by \n",
    "triple backticks.\n",
    "\n",
    "Please be concise. \n",
    "\n",
    "After the description, include a table that gives the \n",
    "product's specifications. The table should have two columns.\n",
    "In the first column include the name of each specification. \n",
    "In the second column include the description.\n",
    "\n",
    "Give the table the title 'Product Specifications'.\n",
    "\n",
    "Format everything as HTML that can be used in a website. \n",
    "Add a HTML header with the name of the product.\n",
    "Set the color of the table to DarkSlateGray and width to 100%.\n",
    "Let the font size be 12 points.\n",
    "\n",
    "Place the description in a <div> element.\n",
    "Set the font size of the div to 12 points in FireBrick color.\n",
    "\n",
    "Product specifications: ```{product_spec}```\n",
    "\"\"\""
   ]
  },
  {
   "cell_type": "code",
   "execution_count": 10,
   "id": "9960f85b",
   "metadata": {},
   "outputs": [
    {
     "name": "stdout",
     "output_type": "stream",
     "text": [
      "```html\n",
      "<!DOCTYPE html>\n",
      "<html>\n",
      "\n",
      "<head>\n",
      "    <title>TerrainMaster Pro 2023 Mountain Bike</title>\n",
      "</head>\n",
      "\n",
      "<body>\n",
      "    <div style=\"font-size: 12pt; color: FireBrick;\">\n",
      "        <p>The TerrainMaster Pro 2023 is an advanced mountain bike designed for the most demanding off-road conditions. Built for rugged terrains and challenging trails, it combines cutting-edge technology with high-quality materials to deliver top-notch performance and durability.</p>\n",
      "    </div>\n",
      "\n",
      "    <table style=\"color: DarkSlateGray; width: 100%; font-size: 12pt;\">\n",
      "        <caption>Product Specifications</caption>\n",
      "        <tr>\n",
      "            <td>Frame Size Options</td>\n",
      "            <td>Small (15\"), Medium (17\"), Large (19\"), X-Large (21\")</td>\n",
      "        </tr>\n",
      "        <tr>\n",
      "            <td>Wheel Size</td>\n",
      "            <td>29 inches</td>\n",
      "        </tr>\n",
      "        <tr>\n",
      "            <td>Number of Gears</td>\n",
      "            <td>24</td>\n",
      "        </tr>\n",
      "        <tr>\n",
      "            <td>Suspension</td>\n",
      "            <td>Full (Front and Rear)</td>\n",
      "        </tr>\n",
      "        <tr>\n",
      "            <td>Brake Type</td>\n",
      "            <td>Hydraulic Disc Brakes</td>\n",
      "        </tr>\n",
      "        <tr>\n",
      "            <td>Frame Material</td>\n",
      "            <td>Aerospace-grade Aluminum</td>\n",
      "        </tr>\n",
      "        <tr>\n",
      "            <td>Weight</td>\n",
      "            <td>13.5 kg (varies slightly with frame size)</td>\n",
      "        </tr>\n",
      "    </table>\n",
      "</body>\n",
      "\n",
      "</html>\n",
      "```\n",
      "\n"
     ]
    }
   ],
   "source": [
    "response=get_word_completion(prompt)\n",
    "print(response)"
   ]
  },
  {
   "cell_type": "code",
   "execution_count": 11,
   "id": "ad60977d",
   "metadata": {},
   "outputs": [
    {
     "data": {
      "text/html": [
       "```html\n",
       "<!DOCTYPE html>\n",
       "<html>\n",
       "\n",
       "<head>\n",
       "    <title>TerrainMaster Pro 2023 Mountain Bike</title>\n",
       "</head>\n",
       "\n",
       "<body>\n",
       "    <div style=\"font-size: 12pt; color: FireBrick;\">\n",
       "        <p>The TerrainMaster Pro 2023 is an advanced mountain bike designed for the most demanding off-road conditions. Built for rugged terrains and challenging trails, it combines cutting-edge technology with high-quality materials to deliver top-notch performance and durability.</p>\n",
       "    </div>\n",
       "\n",
       "    <table style=\"color: DarkSlateGray; width: 100%; font-size: 12pt;\">\n",
       "        <caption>Product Specifications</caption>\n",
       "        <tr>\n",
       "            <td>Frame Size Options</td>\n",
       "            <td>Small (15\"), Medium (17\"), Large (19\"), X-Large (21\")</td>\n",
       "        </tr>\n",
       "        <tr>\n",
       "            <td>Wheel Size</td>\n",
       "            <td>29 inches</td>\n",
       "        </tr>\n",
       "        <tr>\n",
       "            <td>Number of Gears</td>\n",
       "            <td>24</td>\n",
       "        </tr>\n",
       "        <tr>\n",
       "            <td>Suspension</td>\n",
       "            <td>Full (Front and Rear)</td>\n",
       "        </tr>\n",
       "        <tr>\n",
       "            <td>Brake Type</td>\n",
       "            <td>Hydraulic Disc Brakes</td>\n",
       "        </tr>\n",
       "        <tr>\n",
       "            <td>Frame Material</td>\n",
       "            <td>Aerospace-grade Aluminum</td>\n",
       "        </tr>\n",
       "        <tr>\n",
       "            <td>Weight</td>\n",
       "            <td>13.5 kg (varies slightly with frame size)</td>\n",
       "        </tr>\n",
       "    </table>\n",
       "</body>\n",
       "\n",
       "</html>\n",
       "```\n"
      ],
      "text/plain": [
       "<IPython.core.display.HTML object>"
      ]
     },
     "metadata": {},
     "output_type": "display_data"
    }
   ],
   "source": [
    "from IPython.display import display, HTML\n",
    "display(HTML(response))"
   ]
  },
  {
   "cell_type": "markdown",
   "id": "ecf55eb8",
   "metadata": {},
   "source": [
    "# Word Completion Demo"
   ]
  },
  {
   "cell_type": "markdown",
   "id": "55ae1737",
   "metadata": {},
   "source": [
    "### Import modules"
   ]
  },
  {
   "cell_type": "code",
   "execution_count": null,
   "id": "54ff01b9",
   "metadata": {},
   "outputs": [],
   "source": [
    "import os\n",
    "import openai"
   ]
  },
  {
   "cell_type": "markdown",
   "id": "16c8bedd",
   "metadata": {},
   "source": [
    "### Set the OpenAI API Key"
   ]
  },
  {
   "cell_type": "code",
   "execution_count": null,
   "id": "996b3160",
   "metadata": {},
   "outputs": [],
   "source": [
    "#openai.api_key = os.getenv(\"OPENAI_API_KEY\")\n",
    "openai.api_key = \"\""
   ]
  },
  {
   "cell_type": "markdown",
   "id": "c8cd35f7",
   "metadata": {},
   "source": [
    "### Define function for word completion"
   ]
  },
  {
   "cell_type": "code",
   "execution_count": null,
   "id": "bf11b0a8",
   "metadata": {},
   "outputs": [],
   "source": [
    "def get_word_completion(prompt):\n",
    "    messages= [\n",
    "        {'role':'system', 'content':'You are a helpful assistant.'},\n",
    "        {'role':'user', 'content':prompt}\n",
    "    ]    \n",
    "    response = openai.ChatCompletion.create(\n",
    "        model='gpt-3.5-turbo',\n",
    "        messages=messages,\n",
    "        max_tokens=3000,\n",
    "        temperature=1.2,\n",
    "        n=1\n",
    "    )\n",
    "    return response.choices[0].message.content"
   ]
  },
  {
   "cell_type": "markdown",
   "id": "9ba78e60",
   "metadata": {},
   "source": [
    "### Define the context for the prompt"
   ]
  },
  {
   "cell_type": "code",
   "execution_count": null,
   "id": "421805f7",
   "metadata": {},
   "outputs": [],
   "source": [
    "product_spec = \"\"\"\n",
    "Product Name:  TerrainMaster Pro 2023 Mountain Bike \n",
    "\n",
    "Product Description:  The TerrainMaster Pro 2023 is an advanced mountain bike designed for the most demanding off-road conditions. Built for rugged terrains and challenging trails, it combines cutting-edge technology with high-quality materials to deliver top-notch performance and durability.\n",
    "\n",
    "Key Features: \n",
    "\n",
    "- Frame:  Ultra-lightweight, aerospace-grade aluminum frame that ensures maximum strength and minimal weight, promoting easier handling and maneuverability.\n",
    "- Suspension:  Advanced dual-suspension system with 180mm travel, featuring a hydraulic lockout function to adapt to different terrain conditions.\n",
    "- Gears:  Shimano 24-speed drivetrain for a wide range of gears to tackle steep climbs and fast descents.\n",
    "- Brakes:  Hydraulic disc brakes for superior stopping power in all weather conditions.\n",
    "- Tires:  29-inch, wide-profile, puncture-resistant tires, offering excellent traction on various surfaces and conditions.\n",
    "- Seat:  Adjustable, ergonomic saddle with gel padding for maximum comfort during long rides.\n",
    "\n",
    "Additional Features: \n",
    "\n",
    "- Handlebars:  Wide, flat handlebars for improved control and stability.\n",
    "- Pedals:  Premium alloy platform pedals with sealed bearings for durability and smooth pedaling.\n",
    "- Water Bottle Holder:  Comes with a built-in water bottle holder for convenient hydration.\n",
    "- Mudguards:  Optional detachable mudguards to protect the rider from splashes and debris.\n",
    "\n",
    "Specifications: \n",
    "\n",
    "- Frame Size Options: Small (15\"), Medium (17\"), Large (19\"), X-Large (21\")\n",
    "- Wheel Size: 29 inches\n",
    "- Number of Gears: 24\n",
    "- Suspension: Full (Front and Rear)\n",
    "- Brake Type: Hydraulic Disc Brakes\n",
    "- Frame Material: Aerospace-grade Aluminum\n",
    "- Weight: 13.5 kg (varies slightly with frame size)\n",
    "\n",
    "Usage Recommendations: The TerrainMaster Pro 2023 is perfect for advanced riders looking to push their limits on challenging off-road terrains. It is suitable for mountain biking, trail riding, enduro, and downhill biking.\n",
    "\n",
    "Safety Precautions: Always wear a helmet and other protective gear while riding. Check the bike's components before every ride, especially the brakes and tires, for optimal safety.\n",
    "\n",
    "Warranty: The TerrainMaster Pro 2023 comes with a limited lifetime warranty on the frame and a 2-year warranty on the mechanical components.\n",
    "\n",
    "Price:  $900\n",
    "\"\"\"    "
   ]
  },
  {
   "cell_type": "markdown",
   "id": "c0ac0224",
   "metadata": {},
   "source": [
    "### Construct the basic prompt"
   ]
  },
  {
   "cell_type": "code",
   "execution_count": null,
   "id": "f18e6113",
   "metadata": {},
   "outputs": [],
   "source": [
    "prompt = f\"\"\"\n",
    "Your task is to help the marketing team create a \n",
    "description for website of a product based \n",
    "on the product spec.\n",
    "\n",
    "Write a description based on the information \n",
    "provided in the specifications delimited by \n",
    "triple backticks.\n",
    "\n",
    "Technical specifications: ```{product_spec}```\n",
    "\"\"\""
   ]
  },
  {
   "cell_type": "code",
   "execution_count": null,
   "id": "c95f6df5",
   "metadata": {},
   "outputs": [],
   "source": [
    "response=get_word_completion(prompt)\n",
    "print(response)"
   ]
  },
  {
   "cell_type": "markdown",
   "id": "d81bb1b8",
   "metadata": {},
   "source": [
    "### Tweak the prompt"
   ]
  },
  {
   "cell_type": "code",
   "execution_count": null,
   "id": "0a7c177e",
   "metadata": {},
   "outputs": [],
   "source": [
    "prompt = f\"\"\"\n",
    "Your task is to help the marketing team create a \n",
    "description for website of a product based \n",
    "on the product spec.\n",
    "\n",
    "Write a description based on the information \n",
    "provided in the specifications delimited by \n",
    "triple backticks.\n",
    "\n",
    "Please be concise.\n",
    "\n",
    "Product specifications: ```{product_spec}```\n",
    "\"\"\""
   ]
  },
  {
   "cell_type": "code",
   "execution_count": null,
   "id": "fa9120ba",
   "metadata": {},
   "outputs": [],
   "source": [
    "response=get_word_completion(prompt)\n",
    "print(response)"
   ]
  },
  {
   "cell_type": "markdown",
   "id": "978db950",
   "metadata": {},
   "source": [
    "### Tweak the prompt further"
   ]
  },
  {
   "cell_type": "code",
   "execution_count": null,
   "id": "c73f8d12",
   "metadata": {},
   "outputs": [],
   "source": [
    "prompt = f\"\"\"\n",
    "Your task is to help the marketing team create a \n",
    "description for website of a product based \n",
    "on the product spec.\n",
    "\n",
    "Write a description based on the information \n",
    "provided in the specifications delimited by \n",
    "triple backticks.\n",
    "\n",
    "Please be concise. \n",
    "\n",
    "After the description, include a table that gives the \n",
    "product's specifications. The table should have two columns.\n",
    "In the first column include the name of each specification. \n",
    "In the second column include the description.\n",
    "\n",
    "Give the table the title 'Product Specifications'.\n",
    "\n",
    "Format everything as HTML that can be used in a website. \n",
    "Add a HTML header with the name of the product.\n",
    "Set the color of the table to DarkSlateGray and width to 100%.\n",
    "Let the font size be 12 points.\n",
    "\n",
    "Place the description in a <div> element.\n",
    "Set the font size of the div to 12 points in FireBrick color.\n",
    "\n",
    "Product specifications: ```{product_spec}```\n",
    "\"\"\""
   ]
  },
  {
   "cell_type": "code",
   "execution_count": null,
   "id": "e5fe3cb3",
   "metadata": {},
   "outputs": [],
   "source": [
    "response=get_word_completion(prompt)\n",
    "print(response)"
   ]
  },
  {
   "cell_type": "code",
   "execution_count": null,
   "id": "db930b55",
   "metadata": {},
   "outputs": [],
   "source": [
    "from IPython.display import display, HTML\n",
    "display(HTML(response))"
   ]
  }
 ],
 "metadata": {
  "kernelspec": {
   "display_name": "Python 3 (ipykernel)",
   "language": "python",
   "name": "python3"
  },
  "language_info": {
   "codemirror_mode": {
    "name": "ipython",
    "version": 3
   },
   "file_extension": ".py",
   "mimetype": "text/x-python",
   "name": "python",
   "nbconvert_exporter": "python",
   "pygments_lexer": "ipython3",
   "version": "3.12.3"
  }
 },
 "nbformat": 4,
 "nbformat_minor": 5
}
