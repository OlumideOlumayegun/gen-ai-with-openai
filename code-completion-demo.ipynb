{
 "cells": [
  {
   "cell_type": "markdown",
   "id": "4b20e8e1",
   "metadata": {},
   "source": [
    "# Code Completion Demo"
   ]
  },
  {
   "cell_type": "markdown",
   "id": "3a5ffc31",
   "metadata": {},
   "source": [
    "### Import modules"
   ]
  },
  {
   "cell_type": "code",
   "execution_count": 1,
   "id": "47335350",
   "metadata": {},
   "outputs": [],
   "source": [
    "import os\n",
    "import openai"
   ]
  },
  {
   "cell_type": "markdown",
   "id": "085f1765",
   "metadata": {},
   "source": [
    "### Set the OpenAI API Key"
   ]
  },
  {
   "cell_type": "code",
   "execution_count": null,
   "id": "929e070d",
   "metadata": {},
   "outputs": [],
   "source": [
    "#openai.api_key = os.getenv(\"OPENAI_API_KEY\")\n",
    "client = openai.OpenAI(api_key = 'YOUR_OPENAI_API_KEY')"
   ]
  },
  {
   "cell_type": "markdown",
   "id": "496c6de9",
   "metadata": {},
   "source": [
    "### Define function for code completion"
   ]
  },
  {
   "cell_type": "code",
   "execution_count": 3,
   "id": "255f05f5",
   "metadata": {},
   "outputs": [],
   "source": [
    "def get_code_completion(prompt,language):\n",
    "    response = client.chat.completions.create(\n",
    "        model='gpt-3.5-turbo',\n",
    "        messages=[\n",
    "                {'role':'system', 'content':'You are a helpful '+ language +' coding assistant.'},\n",
    "                {'role':'user', 'content':prompt}\n",
    "        ],\n",
    "        max_tokens=3000,\n",
    "        temperature=1,\n",
    "        n=1\n",
    "    )\n",
    "    return response.choices[0].message.content"
   ]
  },
  {
   "cell_type": "markdown",
   "id": "40207ffd",
   "metadata": {},
   "source": [
    "### Define a helper function to cleanup response"
   ]
  },
  {
   "cell_type": "code",
   "execution_count": 4,
   "id": "eac5945c",
   "metadata": {},
   "outputs": [],
   "source": [
    "def cleanup_code(snippet,language):\n",
    "    snippet=snippet.replace(\"```\", \"\") #remove backticks\n",
    "    snippet=snippet.replace(language, \"\") #remove language specifier\n",
    "    snippet=snippet.strip() #remove leading and trailing newline character\n",
    "    return snippet"
   ]
  },
  {
   "cell_type": "markdown",
   "id": "36e16bab",
   "metadata": {},
   "source": [
    "### Generate HTML code"
   ]
  },
  {
   "cell_type": "code",
   "execution_count": 5,
   "id": "11511b0c",
   "metadata": {},
   "outputs": [],
   "source": [
    "prompt='''\n",
    "You are a frontend developer with skills in HTML and JavaScript.\n",
    "Generate the code for a webpage that has a button.\n",
    "When the button is clicked, the background color of the page should change between red, green, and blue. \n",
    "Include only the code and not the explanation and output.\n",
    "'''"
   ]
  },
  {
   "cell_type": "code",
   "execution_count": 6,
   "id": "fe5162db",
   "metadata": {},
   "outputs": [
    {
     "name": "stdout",
     "output_type": "stream",
     "text": [
      "```html\n",
      "<!DOCTYPE html>\n",
      "<html lang=\"en\">\n",
      "<head>\n",
      "<meta charset=\"UTF-8\">\n",
      "<meta name=\"viewport\" content=\"width=device-width, initial-scale=1.0\">\n",
      "<title>Change Background Color</title>\n",
      "<style>\n",
      "    body {\n",
      "        transition: background-color 0.5s;\n",
      "    }\n",
      "</style>\n",
      "</head>\n",
      "<body>\n",
      "<button onclick=\"changeColor()\">Change Color</button>\n",
      "\n",
      "<script>\n",
      "    const colors = ['red', 'green', 'blue'];\n",
      "    let index = 0;\n",
      "\n",
      "    function changeColor() {\n",
      "        document.body.style.backgroundColor = colors[index];\n",
      "        index = (index + 1) % colors.length;\n",
      "    }\n",
      "</script>\n",
      "</body>\n",
      "</html>\n",
      "```  \n"
     ]
    }
   ],
   "source": [
    "response=get_code_completion(prompt,\"html\")\n",
    "print(response)"
   ]
  },
  {
   "cell_type": "code",
   "execution_count": 7,
   "id": "b229ffdb",
   "metadata": {},
   "outputs": [
    {
     "data": {
      "text/html": [
       "```html\n",
       "<!DOCTYPE html>\n",
       "<html lang=\"en\">\n",
       "<head>\n",
       "<meta charset=\"UTF-8\">\n",
       "<meta name=\"viewport\" content=\"width=device-width, initial-scale=1.0\">\n",
       "<title>Change Background Color</title>\n",
       "<style>\n",
       "    body {\n",
       "        transition: background-color 0.5s;\n",
       "    }\n",
       "</style>\n",
       "</head>\n",
       "<body>\n",
       "<button onclick=\"changeColor()\">Change Color</button>\n",
       "\n",
       "<script>\n",
       "    const colors = ['red', 'green', 'blue'];\n",
       "    let index = 0;\n",
       "\n",
       "    function changeColor() {\n",
       "        document.body.style.backgroundColor = colors[index];\n",
       "        index = (index + 1) % colors.length;\n",
       "    }\n",
       "</script>\n",
       "</body>\n",
       "</html>\n",
       "```  "
      ],
      "text/plain": [
       "<IPython.core.display.HTML object>"
      ]
     },
     "metadata": {},
     "output_type": "display_data"
    }
   ],
   "source": [
    "from IPython.display import display, HTML\n",
    "display(HTML(response))"
   ]
  },
  {
   "cell_type": "markdown",
   "id": "6cfe0c0d",
   "metadata": {},
   "source": [
    "### Generate Python code"
   ]
  },
  {
   "cell_type": "code",
   "execution_count": 8,
   "id": "c0ac853e",
   "metadata": {},
   "outputs": [],
   "source": [
    "context='''\n",
    "First, print the version of Pandas then Load a Pandas DataFrame from URL https://raw.githubusercontent.com/mwaskom/seaborn-data/master/iris.csv\n",
    "Print the first 5 rows of the DataFrame.\n",
    "Print the last 5 rows of the DataFrame.\n",
    "Save the Pandas file to a file named \"iris.csv\" in CSV format.\n",
    "Include only the code and not the explanation and output.\n",
    "'''"
   ]
  },
  {
   "cell_type": "code",
   "execution_count": 9,
   "id": "ca41f5ee",
   "metadata": {},
   "outputs": [],
   "source": [
    "prompt = f\"\"\"\n",
    "You are a Python Developer dealing with data science. \n",
    "Carefully follow the steps mentioned in the instructions delimited by \n",
    "triple backticks.\n",
    "```{context}```\n",
    "\"\"\""
   ]
  },
  {
   "cell_type": "code",
   "execution_count": 10,
   "id": "d7a1bd1f",
   "metadata": {},
   "outputs": [
    {
     "name": "stdout",
     "output_type": "stream",
     "text": [
      "import pandas as pd\n",
      "\n",
      "print(pd.__version__)\n",
      "\n",
      "url = \"https://raw.githubusercontent.com/mwaskom/seaborn-data/master/iris.csv\"\n",
      "df = pd.read_csv(url)\n",
      "\n",
      "print(df.head())\n",
      "\n",
      "print(df.tail())\n",
      "\n",
      "df.to_csv(\"iris.csv\", index=False)\n"
     ]
    }
   ],
   "source": [
    "response=get_code_completion(prompt,\"python\")\n",
    "response=cleanup_code(response,\"python\")\n",
    "print(response)"
   ]
  },
  {
   "cell_type": "markdown",
   "id": "08eaea61",
   "metadata": {},
   "source": [
    "### Explain and document code"
   ]
  },
  {
   "cell_type": "code",
   "execution_count": 11,
   "id": "f7303461",
   "metadata": {},
   "outputs": [],
   "source": [
    "context='''\n",
    "def to_dictionary(keys, values):\n",
    "    return dict(zip(keys, values))\n",
    "    \n",
    "\n",
    "keys = [\"a\", \"b\", \"c\"]    \n",
    "values = [2, 3, 4]\n",
    "print(to_dictionary(keys, values)) \n",
    "'''        "
   ]
  },
  {
   "cell_type": "code",
   "execution_count": 12,
   "id": "a1dd5aa0",
   "metadata": {},
   "outputs": [],
   "source": [
    "prompt = f\"\"\"\n",
    "Regenerate the code by adding comments in the docstring format.\n",
    "Explain the code in triple backticks. Predict the possible outcome of the function.\n",
    "```{context}```\n",
    "\"\"\""
   ]
  },
  {
   "cell_type": "code",
   "execution_count": 13,
   "id": "0dd4ce56",
   "metadata": {},
   "outputs": [
    {
     "name": "stdout",
     "output_type": "stream",
     "text": [
      "def to_dictionary(keys, values):\n",
      "    \"\"\"\n",
      "    Create a dictionary by zipping two lists of keys and values.\n",
      "\n",
      "    Args:\n",
      "    keys: List of keys for the dictionary\n",
      "    values: List of values for the dictionary\n",
      "\n",
      "    Returns:\n",
      "    Dictionary containing keys and values\n",
      "\n",
      "    \"\"\"\n",
      "\n",
      "    return dict(zip(keys, values))\n",
      "\n",
      "\n",
      "keys = [\"a\", \"b\", \"c\"]    \n",
      "values = [2, 3, 4]\n",
      "print(to_dictionary(keys, values)) \n",
      "\n",
      "\n",
      "The function `to_dictionary` takes two lists (`keys` and `values`) and creates a dictionary by zipping them together. The keys are taken from the `keys` list and the values are taken from the `values` list.\n",
      "The code will output:\n",
      "\n",
      "{'a': 2, 'b': 3, 'c': 4}\n"
     ]
    }
   ],
   "source": [
    "response=get_code_completion(prompt,\"python\")\n",
    "response=cleanup_code(response,\"python\")\n",
    "print(response)"
   ]
  },
  {
   "cell_type": "markdown",
   "id": "c8429db6",
   "metadata": {},
   "source": [
    "### Generate SQL queries"
   ]
  },
  {
   "cell_type": "code",
   "execution_count": 14,
   "id": "122e7222",
   "metadata": {},
   "outputs": [],
   "source": [
    "context='''\n",
    "Index,Customer Id,First Name,Last Name,Company,City,Country,Phone 1,Phone 2,Email,Subscription Date,Website\n",
    "1,DD37Cf93aecA6Dc,Sheryl,Baxter,Rasmussen Group,East Leonard,Chile,229.077.5154,397.884.0519x718,zunigavanessa@smith.info,2020-08-24,http://www.stephenson.com/\n",
    "2,1Ef7b82A4CAAD10,Preston,Lozano,Vega-Gentry,East Jimmychester,Djibouti,5153435776,686-620-1820x944,vmata@colon.com,2021-04-23,http://www.hobbs.com/\n",
    "3,6F94879bDAfE5a6,Roy,Berry,Murillo-Perry,Isabelborough,Antigua and Barbuda,+1-539-402-0259,(496)978-3969x58947,beckycarr@hogan.com,2020-03-25,http://www.lawrence.com/\n",
    "4,5Cef8BFA16c5e3c,Linda,Olsen,\"Dominguez, Mcmillan and Donovan\",Bensonview,Dominican Republic,001-808-617-6467x12895,+1-813-324-8756,stanleyblackwell@benson.org,2020-06-02,http://www.good-lyons.com/\n",
    "5,053d585Ab6b3159,Joanna,Bender,\"Martin, Lang and Andrade\",West Priscilla,Slovakia (Slovak Republic),001-234-203-0635x76146,001-199-446-3860x3486,colinalvarado@miles.net,2021-04-17,https://goodwin-ingram.com/\n",
    "6,2d08FB17EE273F4,Aimee,Downs,Steele Group,Chavezborough,Bosnia and Herzegovina,(283)437-3886x88321,999-728-1637,louis27@gilbert.com,2020-02-25,http://www.berger.net/\n",
    "'''"
   ]
  },
  {
   "cell_type": "code",
   "execution_count": 15,
   "id": "e0f13a88",
   "metadata": {},
   "outputs": [],
   "source": [
    "prompt = f\"\"\"\n",
    "The CSV data is available within triple backticks.\n",
    "Create SQL statements to create a table and insert the rows. \n",
    "The table needs to have a primary key.\n",
    "\n",
    "Create a SQL query to retrieve all customers living in Chile. \n",
    "Print the possible outcome of the SQL query.\n",
    "\n",
    "```{context}```\n",
    "\"\"\""
   ]
  },
  {
   "cell_type": "code",
   "execution_count": 16,
   "id": "2276b8be",
   "metadata": {},
   "outputs": [
    {
     "name": "stdout",
     "output_type": "stream",
     "text": [
      "-- Create table\n",
      "CREATE TABLE Customers (\n",
      "    CustomerId VARCHAR(20) PRIMARY KEY,\n",
      "    FirstName VARCHAR(50),\n",
      "    LastName VARCHAR(50),\n",
      "    Company VARCHAR(50),\n",
      "    City VARCHAR(50),\n",
      "    Country VARCHAR(50),\n",
      "    Phone1 VARCHAR(20),\n",
      "    Phone2 VARCHAR(20),\n",
      "    Email VARCHAR(50),\n",
      "    SubscriptionDate DATE,\n",
      "    Website VARCHAR(100)\n",
      ");\n",
      "\n",
      "-- Insert rows\n",
      "INSERT INTO Customers (CustomerId, FirstName, LastName, Company, City, Country, Phone1, Phone2, Email, SubscriptionDate, Website)\n",
      "VALUES ('DD37Cf93aecA6Dc', 'Sheryl', 'Baxter', 'Rasmussen Group', 'East Leonard', 'Chile', '229.077.5154', '397.884.0519x718', 'zunigavanessa@smith.info', '2020-08-24', 'http://www.stephenson.com/'),\n",
      "       ('1Ef7b82A4CAAD10', 'Preston', 'Lozano', 'Vega-Gentry', 'East Jimmychester', 'Djibouti', '5153435776', '686-620-1820x944', 'vmata@colon.com', '2021-04-23', 'http://www.hobbs.com/'),\n",
      "       ('6F94879bDAfE5a6', 'Roy', 'Berry', 'Murillo-Perry', 'Isabelborough', 'Antigua and Barbuda', '+1-539-402-0259', '(496)978-3969x58947', 'beckycarr@hogan.com', '2020-03-25', 'http://www.lawrence.com/'),\n",
      "       ('5Cef8BFA16c5e3c', 'Linda', 'Olsen', 'Dominguez, Mcmillan and Donovan', 'Bensonview', 'Dominican Republic', '001-808-617-6467x12895', '+1-813-324-8756', 'stanleyblackwell@benson.org', '2020-06-02', 'http://www.good-lyons.com/'),\n",
      "       ('053d585Ab6b3159', 'Joanna', 'Bender', 'Martin, Lang and Andrade', 'West Priscilla', 'Slovakia (Slovak Republic)', '001-234-203-0635x76146', '001-199-446-3860x3486', 'colinalvarado@miles.net', '2021-04-17', 'https://goodwin-ingram.com/'),\n",
      "       ('2d08FB17EE273F4', 'Aimee', 'Downs', 'Steele Group', 'Chavezborough', 'Bosnia and Herzegovina', '(283)437-3886x88321', '999-728-1637', 'louis27@gilbert.com', '2020-02-25', 'http://www.berger.net/');\n",
      "\n",
      "-- Query to retrieve customers living in Chile\n",
      "SELECT * FROM Customers\n",
      "WHERE Country = 'Chile';\n",
      "\n",
      "\n",
      "Possible outcome of the SQL query:\n",
      "\n",
      "CustomerId      | FirstName | LastName |  Company                 | City          | Country | Phone1       | Phone2           | Email                    | SubscriptionDate | Website\n",
      "DD37Cf93aecA6Dc | Sheryl    | Baxter   | Rasmussen Group          | East Leonard  | Chile   | 229.077.5154 | 397.884.0519x718 | zunigavanessa@smith.info | 2020-08-24      | http://www.stephenson.com/\n"
     ]
    }
   ],
   "source": [
    "response=get_code_completion(prompt,\"sql\")\n",
    "response=cleanup_code(response,\"sql\")\n",
    "print(response)"
   ]
  },
  {
   "cell_type": "code",
   "execution_count": null,
   "id": "c84a4f21-1d54-42a5-84e7-cba9f4ba4722",
   "metadata": {},
   "outputs": [],
   "source": []
  }
 ],
 "metadata": {
  "kernelspec": {
   "display_name": "Python 3 (ipykernel)",
   "language": "python",
   "name": "python3"
  },
  "language_info": {
   "codemirror_mode": {
    "name": "ipython",
    "version": 3
   },
   "file_extension": ".py",
   "mimetype": "text/x-python",
   "name": "python",
   "nbconvert_exporter": "python",
   "pygments_lexer": "ipython3",
   "version": "3.12.3"
  }
 },
 "nbformat": 4,
 "nbformat_minor": 5
}
