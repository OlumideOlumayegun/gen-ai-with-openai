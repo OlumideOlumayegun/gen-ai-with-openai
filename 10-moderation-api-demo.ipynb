{
 "cells": [
  {
   "cell_type": "markdown",
   "id": "9766a4d2",
   "metadata": {},
   "source": [
    "# Moderation API Lab"
   ]
  },
  {
   "cell_type": "code",
   "execution_count": 1,
   "id": "3f20de04",
   "metadata": {},
   "outputs": [],
   "source": [
    "import openai\n",
    "import os"
   ]
  },
  {
   "cell_type": "markdown",
   "id": "02a3e04e",
   "metadata": {},
   "source": [
    "### Set the OpenAI API Key"
   ]
  },
  {
   "cell_type": "code",
   "execution_count": null,
   "id": "2dae4294",
   "metadata": {},
   "outputs": [],
   "source": [
    "#openai.api_key = os.getenv(\"OPENAI_API_KEY\")\n",
    "#openai.api_key=''\n",
    "client = openai.OpenAI(api_key=\"YOUR_OPENAI_API_KEY\")"
   ]
  },
  {
   "cell_type": "markdown",
   "id": "ceaedc27",
   "metadata": {},
   "source": [
    "## Safe prompt"
   ]
  },
  {
   "cell_type": "code",
   "execution_count": 3,
   "id": "a89560d5",
   "metadata": {},
   "outputs": [],
   "source": [
    "prompt=\"Plan for a 3-day itinerary to London\""
   ]
  },
  {
   "cell_type": "markdown",
   "id": "68697d22",
   "metadata": {},
   "source": [
    "## Unsafe prompt (uncomment and run)"
   ]
  },
  {
   "cell_type": "code",
   "execution_count": 9,
   "id": "18b5e660",
   "metadata": {},
   "outputs": [],
   "source": [
    "prompt=\"I hate myself and want to do harm to myself\""
   ]
  },
  {
   "cell_type": "markdown",
   "id": "d2f562d8",
   "metadata": {},
   "source": [
    "## Invoke the API and inspect the response"
   ]
  },
  {
   "cell_type": "code",
   "execution_count": 10,
   "id": "70fba7ae",
   "metadata": {},
   "outputs": [],
   "source": [
    "response = client.moderations.create(\n",
    "    input=prompt\n",
    ")\n",
    "output = response.results[0]"
   ]
  },
  {
   "cell_type": "code",
   "execution_count": 11,
   "id": "55384f56",
   "metadata": {},
   "outputs": [
    {
     "data": {
      "text/plain": [
       "True"
      ]
     },
     "execution_count": 11,
     "metadata": {},
     "output_type": "execute_result"
    }
   ],
   "source": [
    "output.flagged"
   ]
  },
  {
   "cell_type": "code",
   "execution_count": 12,
   "id": "186d579a",
   "metadata": {},
   "outputs": [
    {
     "data": {
      "text/plain": [
       "Moderation(categories=Categories(harassment=False, harassment_threatening=False, hate=False, hate_threatening=False, self_harm=True, self_harm_instructions=False, self_harm_intent=True, sexual=False, sexual_minors=False, violence=False, violence_graphic=False, self-harm=True, sexual/minors=False, hate/threatening=False, violence/graphic=False, self-harm/intent=True, self-harm/instructions=False, harassment/threatening=False), category_scores=CategoryScores(harassment=0.00046253588516265154, harassment_threatening=0.00013131985906511545, hate=2.2473639546660706e-05, hate_threatening=3.0862267408338084e-07, self_harm=0.9940369129180908, self_harm_instructions=0.0007941096555441618, self_harm_intent=0.9912160634994507, sexual=2.847926771210041e-05, sexual_minors=7.675511710658611e-07, violence=0.03539469465613365, violence_graphic=0.00018809831817634404, self-harm=0.9940369129180908, sexual/minors=7.675511710658611e-07, hate/threatening=3.0862267408338084e-07, violence/graphic=0.00018809831817634404, self-harm/intent=0.9912160634994507, self-harm/instructions=0.0007941096555441618, harassment/threatening=0.00013131985906511545), flagged=True)"
      ]
     },
     "execution_count": 12,
     "metadata": {},
     "output_type": "execute_result"
    }
   ],
   "source": [
    "output"
   ]
  },
  {
   "cell_type": "markdown",
   "id": "b9b141fd",
   "metadata": {},
   "source": [
    "### Typical workflow of using moderation API"
   ]
  },
  {
   "cell_type": "code",
   "execution_count": 13,
   "id": "f88d47af",
   "metadata": {},
   "outputs": [
    {
     "name": "stdout",
     "output_type": "stream",
     "text": [
      "STOP. Prompt is flagged by moderator\n"
     ]
    }
   ],
   "source": [
    "if output.flagged:\n",
    "    print(\"STOP. Prompt is flagged by moderator\")\n",
    "    #STOP and inform user\n",
    "\n",
    "else:\n",
    "    print(\"Proceeding with generation API...\")\n",
    "    #Proceed with generation API"
   ]
  },
  {
   "cell_type": "code",
   "execution_count": null,
   "id": "03d3bca2-e527-4b19-9517-229c6f57a7b6",
   "metadata": {},
   "outputs": [],
   "source": []
  }
 ],
 "metadata": {
  "kernelspec": {
   "display_name": "Python 3 (ipykernel)",
   "language": "python",
   "name": "python3"
  },
  "language_info": {
   "codemirror_mode": {
    "name": "ipython",
    "version": 3
   },
   "file_extension": ".py",
   "mimetype": "text/x-python",
   "name": "python",
   "nbconvert_exporter": "python",
   "pygments_lexer": "ipython3",
   "version": "3.12.3"
  }
 },
 "nbformat": 4,
 "nbformat_minor": 5
}
