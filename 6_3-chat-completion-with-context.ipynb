{
 "cells": [
  {
   "cell_type": "markdown",
   "id": "c7c06838",
   "metadata": {},
   "source": [
    "### Invoke Chat Completion with context"
   ]
  },
  {
   "cell_type": "code",
   "execution_count": null,
   "id": "13b36546",
   "metadata": {},
   "outputs": [
    {
     "name": "stdout",
     "output_type": "stream",
     "text": [
      "\"Everything Everywhere All at Once\" won the best picture award at the 95th Oscar awards.\n"
     ]
    }
   ],
   "source": [
    "import os\n",
    "import openai\n",
    "\n",
    "#openai.api_key = os.getenv('OPENAI_API_KEY')\n",
    "client = openai.OpenAI(api_key=\"xxxxx\")\n",
    "\n",
    "response = client.chat.completions.create(\n",
    "  model='gpt-3.5-turbo',\n",
    "  messages=[\n",
    "    {\n",
    "      'role': 'system',\n",
    "      'content': 'You answer questions about 95th Oscar awards held in March 2023. \\\n",
    "                  Answer only if you are sure.'\n",
    "    },\n",
    "    {\n",
    "      'role': 'user',\n",
    "      # Added context from https://www.goodmorningamerica.com/Culture/live-updates/oscars-2023-recap-97751644  \n",
    "      'content': 'On Hollywood`s biggest night, \"Everything Everywhere All at Once\" reigned supreme, winning seven Oscars, the most of any film, including best picture, best director and best original screenplay. It was nominated for 11 Oscars heading into the ceremony.\\\n",
    "                  Which movie won the best picture award?' \n",
    "    }\n",
    "  ]\n",
    ")\n",
    "print(response.choices[0].message.content)"
   ]
  },
  {
   "cell_type": "code",
   "execution_count": null,
   "id": "2164f18a-d329-4237-8b27-91c4a39a273b",
   "metadata": {},
   "outputs": [],
   "source": []
  }
 ],
 "metadata": {
  "kernelspec": {
   "display_name": "Python 3 (ipykernel)",
   "language": "python",
   "name": "python3"
  },
  "language_info": {
   "codemirror_mode": {
    "name": "ipython",
    "version": 3
   },
   "file_extension": ".py",
   "mimetype": "text/x-python",
   "name": "python",
   "nbconvert_exporter": "python",
   "pygments_lexer": "ipython3",
   "version": "3.12.3"
  }
 },
 "nbformat": 4,
 "nbformat_minor": 5
}
