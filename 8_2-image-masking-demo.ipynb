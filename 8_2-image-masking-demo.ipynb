{
 "cells": [
  {
   "cell_type": "markdown",
   "id": "f353feb0",
   "metadata": {},
   "source": [
    "# Image Masking Lab"
   ]
  },
  {
   "cell_type": "markdown",
   "id": "315197e9",
   "metadata": {},
   "source": [
    "### Import modules"
   ]
  },
  {
   "cell_type": "code",
   "execution_count": null,
   "id": "0ebe26b1",
   "metadata": {},
   "outputs": [],
   "source": [
    "import openai\n",
    "import os\n",
    "from IPython.display import Image\n",
    "from IPython.core.display import HTML"
   ]
  },
  {
   "cell_type": "markdown",
   "id": "bd9ae69a",
   "metadata": {},
   "source": [
    "### Set the OpenAI API Key"
   ]
  },
  {
   "cell_type": "code",
   "execution_count": null,
   "id": "498a4d84",
   "metadata": {},
   "outputs": [],
   "source": [
    "#openai.api_key = os.getenv(\"OPENAI_API_KEY\")\n",
    "#openai.api_key = \"\"\n",
    "client = openai.OpenAI(api_key=\"YOUR_OPENAI_API_KEY\")"
   ]
  },
  {
   "cell_type": "markdown",
   "id": "4e27eece",
   "metadata": {},
   "source": [
    "### Original image"
   ]
  },
  {
   "cell_type": "code",
   "execution_count": null,
   "id": "fdd539cb",
   "metadata": {},
   "outputs": [],
   "source": [
    "display(Image(filename='images/dog_table.png'))"
   ]
  },
  {
   "cell_type": "markdown",
   "id": "63f12b9a",
   "metadata": {},
   "source": [
    "### Image with an object removed"
   ]
  },
  {
   "cell_type": "code",
   "execution_count": null,
   "id": "7173931a",
   "metadata": {},
   "outputs": [],
   "source": [
    "display(Image(filename='images/table.png'))"
   ]
  },
  {
   "cell_type": "markdown",
   "id": "c5ed0e50",
   "metadata": {},
   "source": [
    "### Image with mask"
   ]
  },
  {
   "cell_type": "code",
   "execution_count": null,
   "id": "588a85f6",
   "metadata": {},
   "outputs": [],
   "source": [
    "display(Image(filename='images/table-masked.png'))"
   ]
  },
  {
   "cell_type": "markdown",
   "id": "75865acd",
   "metadata": {},
   "source": [
    "### Invoke edited image API"
   ]
  },
  {
   "cell_type": "code",
   "execution_count": null,
   "id": "fd9ad3f9",
   "metadata": {},
   "outputs": [],
   "source": [
    "response = client.images.edit(\n",
    "  image=open(\"images/table.png\", \"rb\"),\n",
    "  mask=open(\"images/table-masked.png\", \"rb\"),\n",
    "  prompt=\"A cat sitting on a dining table chair waiting for food\",\n",
    "  n=1,\n",
    "  size=\"512x512\"\n",
    ")\n",
    "image_url = response.data[0].url"
   ]
  },
  {
   "cell_type": "code",
   "execution_count": null,
   "id": "e7bd9971",
   "metadata": {},
   "outputs": [],
   "source": [
    "Image(url= image_url)"
   ]
  }
 ],
 "metadata": {
  "kernelspec": {
   "display_name": "Python 3 (ipykernel)",
   "language": "python",
   "name": "python3"
  },
  "language_info": {
   "codemirror_mode": {
    "name": "ipython",
    "version": 3
   },
   "file_extension": ".py",
   "mimetype": "text/x-python",
   "name": "python",
   "nbconvert_exporter": "python",
   "pygments_lexer": "ipython3",
   "version": "3.12.3"
  }
 },
 "nbformat": 4,
 "nbformat_minor": 5
}
