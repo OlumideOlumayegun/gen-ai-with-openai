{
 "cells": [
  {
   "cell_type": "markdown",
   "id": "5e19b64f",
   "metadata": {},
   "source": [
    "## Tokenization Lab"
   ]
  },
  {
   "cell_type": "code",
   "execution_count": 1,
   "id": "31686fde",
   "metadata": {},
   "outputs": [],
   "source": [
    "import tiktoken"
   ]
  },
  {
   "cell_type": "markdown",
   "id": "77f10cfd",
   "metadata": {},
   "source": [
    "### Set the target model for encoding"
   ]
  },
  {
   "cell_type": "code",
   "execution_count": 2,
   "id": "fe555087",
   "metadata": {},
   "outputs": [],
   "source": [
    "encoding = tiktoken.encoding_for_model(\"gpt-3.5-turbo\")"
   ]
  },
  {
   "cell_type": "code",
   "execution_count": 3,
   "id": "bffff6d7",
   "metadata": {},
   "outputs": [],
   "source": [
    "msg=\"If it is 9AM in London, what time is it in Hyderabad. Be concise.\""
   ]
  },
  {
   "cell_type": "markdown",
   "id": "b418cf0b",
   "metadata": {},
   "source": [
    "### Encode text to tokens"
   ]
  },
  {
   "cell_type": "code",
   "execution_count": 4,
   "id": "d6ed3827",
   "metadata": {},
   "outputs": [
    {
     "data": {
      "text/plain": [
       "[2746,\n",
       " 433,\n",
       " 374,\n",
       " 220,\n",
       " 24,\n",
       " 1428,\n",
       " 304,\n",
       " 7295,\n",
       " 11,\n",
       " 1148,\n",
       " 892,\n",
       " 374,\n",
       " 433,\n",
       " 304,\n",
       " 69547,\n",
       " 13,\n",
       " 2893,\n",
       " 64694,\n",
       " 13]"
      ]
     },
     "execution_count": 4,
     "metadata": {},
     "output_type": "execute_result"
    }
   ],
   "source": [
    "tokens=encoding.encode(msg)\n",
    "tokens"
   ]
  },
  {
   "cell_type": "code",
   "execution_count": 5,
   "id": "4f9c115e",
   "metadata": {},
   "outputs": [
    {
     "data": {
      "text/plain": [
       "19"
      ]
     },
     "execution_count": 5,
     "metadata": {},
     "output_type": "execute_result"
    }
   ],
   "source": [
    "len(tokens)"
   ]
  },
  {
   "cell_type": "markdown",
   "id": "3ec1090e",
   "metadata": {},
   "source": [
    "### Decode text from tokens"
   ]
  },
  {
   "cell_type": "code",
   "execution_count": 6,
   "id": "e326d1c1",
   "metadata": {},
   "outputs": [
    {
     "name": "stdout",
     "output_type": "stream",
     "text": [
      "If it is 9AM in London, what time is it in Hyderabad. Be concise.\n"
     ]
    }
   ],
   "source": [
    "print(encoding.decode(tokens))"
   ]
  }
 ],
 "metadata": {
  "kernelspec": {
   "display_name": "genaiVenv",
   "language": "python",
   "name": "python3"
  },
  "language_info": {
   "codemirror_mode": {
    "name": "ipython",
    "version": 3
   },
   "file_extension": ".py",
   "mimetype": "text/x-python",
   "name": "python",
   "nbconvert_exporter": "python",
   "pygments_lexer": "ipython3",
   "version": "3.11.5"
  }
 },
 "nbformat": 4,
 "nbformat_minor": 5
}
