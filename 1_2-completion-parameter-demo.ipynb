{
 "cells": [
  {
   "cell_type": "markdown",
   "id": "4a22d17a",
   "metadata": {},
   "source": [
    "# Exploring API Parameters"
   ]
  },
  {
   "cell_type": "code",
   "execution_count": 1,
   "id": "3517f8c6",
   "metadata": {},
   "outputs": [],
   "source": [
    "import os\n",
    "import openai"
   ]
  },
  {
   "cell_type": "code",
   "execution_count": null,
   "id": "cd12ab79",
   "metadata": {},
   "outputs": [],
   "source": [
    "#openai.api_key = os.getenv(\"OPENAI_API_KEY\")\n",
    "client = openai.OpenAI(api_key = 'xxxxxxxxxxxxxx')"
   ]
  },
  {
   "cell_type": "markdown",
   "id": "37e222c1",
   "metadata": {},
   "source": [
    "## Define the parameters"
   ]
  },
  {
   "cell_type": "code",
   "execution_count": 8,
   "id": "2bc630ab",
   "metadata": {},
   "outputs": [],
   "source": [
    "p_model=\"gpt-3.5-turbo\"\n",
    "p_messages=[\n",
    "    {\"role\": \"system\", \"content\": \"You are an assistant to write poems\"},\n",
    "    {\"role\": \"user\", \"content\": \"Write a short poem on Taj Mahal in 1 stanza\"}\n",
    "]\n",
    "p_temperature=1\n",
    "p_n=1\n",
    "p_top_p=0.5\n",
    "p_presence_penalty=0\n",
    "p_frequency_penalty=0"
   ]
  },
  {
   "cell_type": "markdown",
   "id": "e13ed626",
   "metadata": {},
   "source": [
    "## Invoke API"
   ]
  },
  {
   "cell_type": "code",
   "execution_count": 10,
   "id": "d4b7fbd7",
   "metadata": {},
   "outputs": [],
   "source": [
    "completion = client.chat.completions.create(\n",
    "    model=p_model,\n",
    "    messages=p_messages,\n",
    "    n=p_n,\n",
    "    top_p=p_top_p,\n",
    "    presence_penalty=p_presence_penalty,\n",
    "    frequency_penalty=p_frequency_penalty  \n",
    ")"
   ]
  },
  {
   "cell_type": "markdown",
   "id": "007495df",
   "metadata": {},
   "source": [
    "## Response"
   ]
  },
  {
   "cell_type": "code",
   "execution_count": 11,
   "id": "0748897b",
   "metadata": {},
   "outputs": [
    {
     "name": "stdout",
     "output_type": "stream",
     "text": [
      "In Agra's embrace, a marvel stands tall,\n",
      "Taj Mahal's beauty, a wonder for all.\n",
      "A symbol of love, in marble so grand,\n",
      "Eternal tribute, crafted by hand.\n"
     ]
    }
   ],
   "source": [
    "print(completion.choices[0].message.content)"
   ]
  },
  {
   "cell_type": "markdown",
   "id": "26dc8470",
   "metadata": {},
   "source": [
    "## Usage Details"
   ]
  },
  {
   "cell_type": "code",
   "execution_count": 12,
   "id": "1b6233c8",
   "metadata": {},
   "outputs": [
    {
     "name": "stdout",
     "output_type": "stream",
     "text": [
      "CompletionUsage(completion_tokens=42, prompt_tokens=30, total_tokens=72, prompt_tokens_details={'cached_tokens': 0, 'audio_tokens': 0}, completion_tokens_details={'reasoning_tokens': 0, 'audio_tokens': 0, 'accepted_prediction_tokens': 0, 'rejected_prediction_tokens': 0})\n"
     ]
    }
   ],
   "source": [
    "print(completion.usage)"
   ]
  },
  {
   "cell_type": "code",
   "execution_count": null,
   "id": "cb3c989e-c787-4876-93e8-2e3063646446",
   "metadata": {},
   "outputs": [],
   "source": []
  }
 ],
 "metadata": {
  "kernelspec": {
   "display_name": "Python 3 (ipykernel)",
   "language": "python",
   "name": "python3"
  },
  "language_info": {
   "codemirror_mode": {
    "name": "ipython",
    "version": 3
   },
   "file_extension": ".py",
   "mimetype": "text/x-python",
   "name": "python",
   "nbconvert_exporter": "python",
   "pygments_lexer": "ipython3",
   "version": "3.12.3"
  }
 },
 "nbformat": 4,
 "nbformat_minor": 5
}
