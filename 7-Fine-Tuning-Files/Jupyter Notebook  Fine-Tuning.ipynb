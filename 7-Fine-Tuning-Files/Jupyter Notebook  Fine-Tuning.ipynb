{
 "cells": [
  {
   "cell_type": "markdown",
   "id": "fcf86466",
   "metadata": {},
   "source": [
    "# Using a Fine-tuned Model Lab"
   ]
  },
  {
   "cell_type": "markdown",
   "id": "f04b4cd7",
   "metadata": {},
   "source": [
    "### Import modules"
   ]
  },
  {
   "cell_type": "code",
   "execution_count": null,
   "id": "84baf84b-60b5-48a6-ace1-87dfcc08f3b6",
   "metadata": {},
   "outputs": [],
   "source": [
    "import openai"
   ]
  },
  {
   "cell_type": "markdown",
   "id": "9e4ac9be",
   "metadata": {},
   "source": [
    "### Set the OpenAI API Key"
   ]
  },
  {
   "cell_type": "code",
   "execution_count": null,
   "id": "0c855f26",
   "metadata": {},
   "outputs": [],
   "source": [
    "#openai.api_key = os.getenv(\"OPENAI_API_KEY\")\n",
    "openai.api_key = \"\""
   ]
  },
  {
   "cell_type": "markdown",
   "id": "f35e8f53",
   "metadata": {},
   "source": [
    "### Define suffix as per the instructions given during fine-tuning"
   ]
  },
  {
   "cell_type": "code",
   "execution_count": null,
   "id": "9eb39608-0deb-4c40-8e97-f2c672dacb91",
   "metadata": {},
   "outputs": [],
   "source": [
    "suffix=\" answer only if you know it. Otherwise say 'I don't know'\\n\\n###\\n\\n\""
   ]
  },
  {
   "cell_type": "markdown",
   "id": "b57c6939",
   "metadata": {},
   "source": [
    "### Construct prompt"
   ]
  },
  {
   "cell_type": "code",
   "execution_count": null,
   "id": "62aeeb6e-cc48-4880-b076-b20a01b410a2",
   "metadata": {},
   "outputs": [],
   "source": [
    "#prompt=\"Who presented the SOTU?\"\n",
    "#prompt=\"When was the SOTU presented?\"\n",
    "#prompt=\"What is the key takeaway from the domestic policy?\"\n",
    "#prompt=\"What are some positive trends in the US economy presented by President Biden?\"\n",
    "prompt=\"What was the focus of President Biden's message to Republicans in his 2023 SOTU speech?\""
   ]
  },
  {
   "cell_type": "markdown",
   "id": "02f1b44e",
   "metadata": {},
   "source": [
    "### Invoke Chat Completion endpoint with custom model"
   ]
  },
  {
   "cell_type": "code",
   "execution_count": null,
   "id": "1620e714",
   "metadata": {},
   "outputs": [],
   "source": [
    "model_id=\"\" # Add the model id from the fine-tuned job"
   ]
  },
  {
   "cell_type": "code",
   "execution_count": null,
   "id": "21f99e26-045e-4288-83f2-1e38c5bf52c3",
   "metadata": {},
   "outputs": [],
   "source": [
    "completion = openai.Completion.create(\n",
    "  model=model_id,\n",
    "  prompt=prompt+suffix,\n",
    "  max_tokens=500,    \n",
    "  temperature=0,\n",
    "  frequency_penalty=2.0,\n",
    "  stop=[\"END\",\"***\"]\n",
    ")"
   ]
  },
  {
   "cell_type": "code",
   "execution_count": null,
   "id": "fe344dcc-b287-480c-b2a7-0cbe5f715ee5",
   "metadata": {},
   "outputs": [],
   "source": [
    "print(completion['choices'][0]['text'].strip())"
   ]
  }
 ],
 "metadata": {
  "kernelspec": {
   "display_name": "Python 3 (ipykernel)",
   "language": "python",
   "name": "python3"
  },
  "language_info": {
   "codemirror_mode": {
    "name": "ipython",
    "version": 3
   },
   "file_extension": ".py",
   "mimetype": "text/x-python",
   "name": "python",
   "nbconvert_exporter": "python",
   "pygments_lexer": "ipython3",
   "version": "3.11.4"
  }
 },
 "nbformat": 4,
 "nbformat_minor": 5
}
